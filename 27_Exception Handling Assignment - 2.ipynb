{
 "cells": [
  {
   "cell_type": "markdown",
   "id": "ebd34e54-4b4c-4c0d-af9e-3870474c28b0",
   "metadata": {},
   "source": [
    "####  Q1. Explain why we have to use the Exception class while creating a Custom Exception.\n"
   ]
  },
  {
   "cell_type": "code",
   "execution_count": 1,
   "id": "c10d1063-06fb-479c-9663-8d77b6e8116e",
   "metadata": {},
   "outputs": [
    {
     "data": {
      "text/plain": [
       "\" exceptions are a way to handle errors and exceptional situations that can occur during the execution of a program. When creating a custom exception in Python, it's recommended to inherit from the built-in Exception class or one of its subclasses. Here is why:\\n\\nHierarchy: It places your custom exception in the standard exception hierarchy, allowing for organized error handling.\\n\\nClarity: Following this convention communicates that your exception should be treated like built-in ones, enhancing code readability.\\n\\nConsistency: Adhering to Python's exception handling principles makes your code more predictable and understandable.\\n\\nCompatibility: It enables your custom exception to be caught using standard try and except blocks.\\n\\nExtension: You can add custom attributes and behaviors to your exception while leveraging existing exception mechanisms.\""
      ]
     },
     "execution_count": 1,
     "metadata": {},
     "output_type": "execute_result"
    }
   ],
   "source": [
    "''' exceptions are a way to handle errors and exceptional situations that can occur during the execution of a program. When creating a custom exception in Python, it's recommended to inherit from the built-in Exception class or one of its subclasses. Here is why:\n",
    "\n",
    "Hierarchy: It places your custom exception in the standard exception hierarchy, allowing for organized error handling.\n",
    "\n",
    "Clarity: Following this convention communicates that your exception should be treated like built-in ones, enhancing code readability.\n",
    "\n",
    "Consistency: Adhering to Python's exception handling principles makes your code more predictable and understandable.\n",
    "\n",
    "Compatibility: It enables your custom exception to be caught using standard try and except blocks.\n",
    "\n",
    "Extension: You can add custom attributes and behaviors to your exception while leveraging existing exception mechanisms.'''"
   ]
  },
  {
   "cell_type": "code",
   "execution_count": 5,
   "id": "ffedb66b-85fc-4c6e-b0d8-b1463b33f27b",
   "metadata": {},
   "outputs": [
    {
     "name": "stdout",
     "output_type": "stream",
     "text": [
      "Caught custom exception: This is a custom exception.\n"
     ]
    }
   ],
   "source": [
    "class CustomException(Exception):\n",
    "    def __init__(self, message):\n",
    "        self.message = message\n",
    "        super().__init__(self.message)\n",
    "\n",
    "try:\n",
    "    raise CustomException(\"This is a custom exception.\")\n",
    "except CustomException as e:\n",
    "    print(\"Caught custom exception:\", e)\n",
    "except Exception as e:\n",
    "    print(\"Caught general exception:\", e)\n"
   ]
  },
  {
   "cell_type": "markdown",
   "id": "7698faa5-1e6b-416e-9c68-4be673d5af9a",
   "metadata": {},
   "source": [
    "#### Q2. Write a python program to print Python Exception Hierarchy.\n"
   ]
  },
  {
   "cell_type": "code",
   "execution_count": 2,
   "id": "4dfaa8b4-9018-4efe-b531-6c1ded10f2c2",
   "metadata": {},
   "outputs": [
    {
     "name": "stdout",
     "output_type": "stream",
     "text": [
      "BaseException\n",
      "  Exception\n",
      "    TypeError\n",
      "      FloatOperation\n",
      "      MultipartConversionError\n",
      "    StopAsyncIteration\n",
      "    StopIteration\n",
      "    ImportError\n",
      "      ModuleNotFoundError\n",
      "      ZipImportError\n",
      "    OSError\n",
      "      ConnectionError\n",
      "        BrokenPipeError\n",
      "        ConnectionAbortedError\n",
      "        ConnectionRefusedError\n",
      "        ConnectionResetError\n",
      "          RemoteDisconnected\n",
      "      BlockingIOError\n",
      "      ChildProcessError\n",
      "      FileExistsError\n",
      "      FileNotFoundError\n",
      "      IsADirectoryError\n",
      "      NotADirectoryError\n",
      "      InterruptedError\n",
      "        InterruptedSystemCall\n",
      "      PermissionError\n",
      "      ProcessLookupError\n",
      "      TimeoutError\n",
      "      UnsupportedOperation\n",
      "      itimer_error\n",
      "      herror\n",
      "      gaierror\n",
      "      SSLError\n",
      "        SSLCertVerificationError\n",
      "        SSLZeroReturnError\n",
      "        SSLWantWriteError\n",
      "        SSLWantReadError\n",
      "        SSLSyscallError\n",
      "        SSLEOFError\n",
      "      Error\n",
      "        SameFileError\n",
      "      SpecialFileError\n",
      "      ExecError\n",
      "      ReadError\n",
      "      URLError\n",
      "        HTTPError\n",
      "        ContentTooShortError\n",
      "      BadGzipFile\n",
      "    EOFError\n",
      "      IncompleteReadError\n",
      "    RuntimeError\n",
      "      RecursionError\n",
      "      NotImplementedError\n",
      "        ZMQVersionError\n",
      "        StdinNotImplementedError\n",
      "      _DeadlockError\n",
      "      BrokenBarrierError\n",
      "      BrokenExecutor\n",
      "        BrokenThreadPool\n",
      "      SendfileNotAvailableError\n",
      "      ExtractionError\n",
      "      VariableError\n",
      "    NameError\n",
      "      UnboundLocalError\n",
      "    AttributeError\n",
      "      FrozenInstanceError\n",
      "    SyntaxError\n",
      "      IndentationError\n",
      "        TabError\n",
      "    LookupError\n",
      "      IndexError\n",
      "      KeyError\n",
      "        NoSuchKernel\n",
      "        UnknownBackend\n",
      "      CodecRegistryError\n",
      "    ValueError\n",
      "      UnicodeError\n",
      "        UnicodeEncodeError\n",
      "        UnicodeDecodeError\n",
      "        UnicodeTranslateError\n",
      "      UnsupportedOperation\n",
      "      JSONDecodeError\n",
      "      SSLCertVerificationError\n",
      "      Error\n",
      "      UnsupportedDigestmodError\n",
      "      IllegalMonthError\n",
      "      IllegalWeekdayError\n",
      "      ParserError\n",
      "      ClassNotFound\n",
      "      ClipboardEmpty\n",
      "      MessageDefect\n",
      "        NoBoundaryInMultipartDefect\n",
      "        StartBoundaryNotFoundDefect\n",
      "        CloseBoundaryNotFoundDefect\n",
      "        FirstHeaderLineIsContinuationDefect\n",
      "        MisplacedEnvelopeHeaderDefect\n",
      "        MissingHeaderBodySeparatorDefect\n",
      "        MultipartInvariantViolationDefect\n",
      "        InvalidMultipartContentTransferEncodingDefect\n",
      "        UndecodableBytesDefect\n",
      "        InvalidBase64PaddingDefect\n",
      "        InvalidBase64CharactersDefect\n",
      "        InvalidBase64LengthDefect\n",
      "        HeaderDefect\n",
      "          InvalidHeaderDefect\n",
      "          HeaderMissingRequiredValue\n",
      "          NonPrintableDefect\n",
      "          ObsoleteHeaderDefect\n",
      "          NonASCIILocalPartDefect\n",
      "          InvalidDateDefect\n",
      "      MacroToEdit\n",
      "      InvalidFileException\n",
      "      UnequalIterablesError\n",
      "      InvalidVersion\n",
      "      _InvalidELFFileHeader\n",
      "      InvalidWheelFilename\n",
      "      InvalidSdistFilename\n",
      "      InvalidSpecifier\n",
      "      InvalidMarker\n",
      "      UndefinedComparison\n",
      "      UndefinedEnvironmentName\n",
      "      InvalidRequirement\n",
      "        RequirementParseError\n",
      "      InvalidVersion\n",
      "    AssertionError\n",
      "    ArithmeticError\n",
      "      FloatingPointError\n",
      "      OverflowError\n",
      "      ZeroDivisionError\n",
      "        DivisionByZero\n",
      "        DivisionUndefined\n",
      "      DecimalException\n",
      "        Clamped\n",
      "        Rounded\n",
      "          Underflow\n",
      "          Overflow\n",
      "        Inexact\n",
      "          Underflow\n",
      "          Overflow\n",
      "        Subnormal\n",
      "          Underflow\n",
      "        DivisionByZero\n",
      "        FloatOperation\n",
      "        InvalidOperation\n",
      "          ConversionSyntax\n",
      "          DivisionImpossible\n",
      "          DivisionUndefined\n",
      "          InvalidContext\n",
      "    SystemError\n",
      "      CodecRegistryError\n",
      "    ReferenceError\n",
      "    MemoryError\n",
      "    BufferError\n",
      "    Warning\n",
      "      UserWarning\n",
      "        GetPassWarning\n",
      "        FormatterWarning\n",
      "      EncodingWarning\n",
      "      DeprecationWarning\n",
      "        ProvisionalWarning\n",
      "      PendingDeprecationWarning\n",
      "      SyntaxWarning\n",
      "      RuntimeWarning\n",
      "        ProactorSelectorThreadWarning\n",
      "        UnknownTimezoneWarning\n",
      "        PEP440Warning\n",
      "      FutureWarning\n",
      "        ProvisionalCompleterWarning\n",
      "      ImportWarning\n",
      "      UnicodeWarning\n",
      "      BytesWarning\n",
      "      ResourceWarning\n",
      "      DeprecatedTzFormatWarning\n",
      "      PkgResourcesDeprecationWarning\n",
      "    _OptionError\n",
      "    _Error\n",
      "    error\n",
      "    Verbose\n",
      "    Error\n",
      "    SubprocessError\n",
      "      CalledProcessError\n",
      "      TimeoutExpired\n",
      "    TokenError\n",
      "    StopTokenizing\n",
      "    ClassFoundException\n",
      "    EndOfBlock\n",
      "    TraitError\n",
      "    Error\n",
      "    Error\n",
      "      CancelledError\n",
      "      TimeoutError\n",
      "      InvalidStateError\n",
      "    _GiveupOnSendfile\n",
      "    error\n",
      "    Incomplete\n",
      "    TimeoutError\n",
      "    InvalidStateError\n",
      "    LimitOverrunError\n",
      "    QueueEmpty\n",
      "    QueueFull\n",
      "    Empty\n",
      "    Full\n",
      "    ArgumentError\n",
      "    ZMQBaseError\n",
      "      ZMQError\n",
      "        ContextTerminated\n",
      "        Again\n",
      "        InterruptedSystemCall\n",
      "      ZMQBindError\n",
      "      NotDone\n",
      "    PickleError\n",
      "      PicklingError\n",
      "      UnpicklingError\n",
      "    _Stop\n",
      "    ArgumentError\n",
      "    ArgumentTypeError\n",
      "    ConfigError\n",
      "      ConfigLoaderError\n",
      "        ArgumentError\n",
      "      ConfigFileNotFound\n",
      "    ConfigurableError\n",
      "      MultipleInstanceError\n",
      "    ApplicationError\n",
      "    error\n",
      "    TimeoutError\n",
      "    error\n",
      "    ReturnValueIgnoredError\n",
      "    KeyReuseError\n",
      "    UnknownKeyError\n",
      "    LeakedCallbackError\n",
      "    BadYieldError\n",
      "    ReturnValueIgnoredError\n",
      "    Return\n",
      "    InvalidPortNumber\n",
      "    error\n",
      "    LZMAError\n",
      "    RegistryError\n",
      "    _GiveupOnFastCopy\n",
      "    Error\n",
      "      NoSectionError\n",
      "      DuplicateSectionError\n",
      "      DuplicateOptionError\n",
      "      NoOptionError\n",
      "      InterpolationError\n",
      "        InterpolationMissingOptionError\n",
      "        InterpolationSyntaxError\n",
      "        InterpolationDepthError\n",
      "      ParsingError\n",
      "        MissingSectionHeaderError\n",
      "    NoIPAddresses\n",
      "    BadZipFile\n",
      "    LargeZipFile\n",
      "    BadEntryPoint\n",
      "    NoSuchEntryPoint\n",
      "    DuplicateKernelError\n",
      "    ErrorDuringImport\n",
      "    NotOneValueFound\n",
      "    CannotEval\n",
      "    OptionError\n",
      "    BdbQuit\n",
      "    Restart\n",
      "    ExceptionPexpect\n",
      "      EOF\n",
      "      TIMEOUT\n",
      "    PtyProcessError\n",
      "    FindCmdError\n",
      "    HomeDirError\n",
      "    ProfileDirError\n",
      "    IPythonCoreError\n",
      "      TryNext\n",
      "      UsageError\n",
      "      StdinNotImplementedError\n",
      "    InputRejected\n",
      "    GetoptError\n",
      "    ErrorToken\n",
      "    PrefilterError\n",
      "    AliasError\n",
      "      InvalidAliasError\n",
      "    Error\n",
      "      InterfaceError\n",
      "      DatabaseError\n",
      "        InternalError\n",
      "        OperationalError\n",
      "        ProgrammingError\n",
      "        IntegrityError\n",
      "        DataError\n",
      "        NotSupportedError\n",
      "    Warning\n",
      "    SpaceInInput\n",
      "    DOMException\n",
      "      IndexSizeErr\n",
      "      DomstringSizeErr\n",
      "      HierarchyRequestErr\n",
      "      WrongDocumentErr\n",
      "      InvalidCharacterErr\n",
      "      NoDataAllowedErr\n",
      "      NoModificationAllowedErr\n",
      "      NotFoundErr\n",
      "      NotSupportedErr\n",
      "      InuseAttributeErr\n",
      "      InvalidStateErr\n",
      "      SyntaxErr\n",
      "      InvalidModificationErr\n",
      "      NamespaceErr\n",
      "      InvalidAccessErr\n",
      "      ValidationErr\n",
      "    ValidationError\n",
      "    EditReadOnlyBuffer\n",
      "    _Retry\n",
      "    InvalidLayoutError\n",
      "    HeightIsUnknownError\n",
      "    ParserSyntaxError\n",
      "    InternalParseError\n",
      "    _PositionUpdatingFinished\n",
      "    SimpleGetItemNotFound\n",
      "    UncaughtAttributeError\n",
      "    HasNoContext\n",
      "    ParamIssue\n",
      "    _JediError\n",
      "      InternalError\n",
      "      WrongVersion\n",
      "      RefactoringError\n",
      "    OnErrorLeaf\n",
      "    InvalidPythonEnvironment\n",
      "    MessageError\n",
      "      MessageParseError\n",
      "        HeaderParseError\n",
      "        BoundaryError\n",
      "      MultipartConversionError\n",
      "      CharsetError\n",
      "    Error\n",
      "    HTTPException\n",
      "      NotConnected\n",
      "      InvalidURL\n",
      "      UnknownProtocol\n",
      "      UnknownTransferEncoding\n",
      "      UnimplementedFileMode\n",
      "      IncompleteRead\n",
      "      ImproperConnectionState\n",
      "        CannotSendRequest\n",
      "        CannotSendHeader\n",
      "        ResponseNotReady\n",
      "      BadStatusLine\n",
      "        RemoteDisconnected\n",
      "      LineTooLong\n",
      "    InteractivelyDefined\n",
      "    KillEmbedded\n",
      "    Error\n",
      "      NoSuchProcess\n",
      "        ZombieProcess\n",
      "      AccessDenied\n",
      "      TimeoutExpired\n",
      "    _Ipv6UnsupportedError\n",
      "    QueueEmpty\n",
      "    QueueFull\n",
      "    DebuggerInitializationError\n",
      "    ExpatError\n",
      "    Error\n",
      "      ProtocolError\n",
      "      ResponseError\n",
      "      Fault\n",
      "    ParseBaseException\n",
      "      ParseException\n",
      "      ParseFatalException\n",
      "        ParseSyntaxException\n",
      "    RecursiveGrammarException\n",
      "    ResolutionError\n",
      "      VersionConflict\n",
      "        ContextualVersionConflict\n",
      "      DistributionNotFound\n",
      "      UnknownExtra\n",
      "    _Error\n",
      "    UnableToResolveVariableException\n",
      "    InvalidTypeInArgsException\n",
      "  GeneratorExit\n",
      "  SystemExit\n",
      "  KeyboardInterrupt\n",
      "  CancelledError\n",
      "  AbortThread\n"
     ]
    }
   ],
   "source": [
    "def print_exception_hierarchy(exception_class, indent=0):\n",
    "    print('  ' * indent + exception_class.__name__)\n",
    "    for subclass in exception_class.__subclasses__():\n",
    "        print_exception_hierarchy(subclass, indent + 1)\n",
    "\n",
    "print_exception_hierarchy(BaseException)\n"
   ]
  },
  {
   "cell_type": "markdown",
   "id": "f4980d59-dc8a-4f22-90e7-81e0663560f1",
   "metadata": {},
   "source": [
    "#### Q3. What errors are defined in the ArithmeticError class? Explain any two with an example.\n"
   ]
  },
  {
   "cell_type": "code",
   "execution_count": 8,
   "id": "8c72371a-ec1e-42a8-8144-486bfd3d9c8a",
   "metadata": {},
   "outputs": [
    {
     "data": {
      "text/plain": [
       "\"The ArithmeticError class is a base class for exceptions that occur during arithmetic operations.\\n\\nIt is a subclass of the Exception class and serves as a general category for errors related to arithmetic calculations. Some of the errors defined in the ArithmeticError class include:\\n\\n1)ZeroDivisionError: This exception is raised when an attempt is made to divide a number by zero.\\n\\nIt's a common error that occurs during division operations.\""
      ]
     },
     "execution_count": 8,
     "metadata": {},
     "output_type": "execute_result"
    }
   ],
   "source": [
    "'''The ArithmeticError class is a base class for exceptions that occur during arithmetic operations.\n",
    "\n",
    "It is a subclass of the Exception class and serves as a general category for errors related to arithmetic calculations. Some of the errors defined in the ArithmeticError class include:\n",
    "\n",
    "1)ZeroDivisionError: This exception is raised when an attempt is made to divide a number by zero.\n",
    "\n",
    "It's a common error that occurs during division operations.'''"
   ]
  },
  {
   "cell_type": "code",
   "execution_count": 9,
   "id": "5d3f1a51-9831-45e6-ace0-75eb9e455d15",
   "metadata": {},
   "outputs": [
    {
     "name": "stdout",
     "output_type": "stream",
     "text": [
      "division by zero\n"
     ]
    }
   ],
   "source": [
    "try :\n",
    "    10/0\n",
    "except ZeroDivisionError as e :\n",
    "    print(e)"
   ]
  },
  {
   "cell_type": "code",
   "execution_count": 10,
   "id": "a068686b-31e1-42a2-981e-1717af78a4a3",
   "metadata": {},
   "outputs": [
    {
     "data": {
      "text/plain": [
       "'2) OverflowError: This exception occurs when an arithmetic operation exceeds the limit \\nof representable values for a numeric type.\\n\\nIt typically occurs with large numbers that go beyond the maximum value the data type can hold '"
      ]
     },
     "execution_count": 10,
     "metadata": {},
     "output_type": "execute_result"
    }
   ],
   "source": [
    "'''2) OverflowError: This exception occurs when an arithmetic operation exceeds the limit \n",
    "of representable values for a numeric type.\n",
    "\n",
    "It typically occurs with large numbers that go beyond the maximum value the data type can hold '''"
   ]
  },
  {
   "cell_type": "code",
   "execution_count": 14,
   "id": "863fa2fc-bd29-4b1c-b098-9eae1c588d7d",
   "metadata": {},
   "outputs": [],
   "source": [
    "import sys\n",
    "\n",
    "try:\n",
    "    huge_number = sys.maxsize\n",
    "    result = huge_number * 2 \n",
    "except OverflowError as e:\n",
    "    print(\"Error:\", e)  \n"
   ]
  },
  {
   "cell_type": "markdown",
   "id": "1857fabc-9f7c-49f3-8f7a-23d9b915876f",
   "metadata": {},
   "source": [
    "#### Q4. Why LookupError class is used? Explain with an example KeyError and IndexError. \n"
   ]
  },
  {
   "cell_type": "code",
   "execution_count": 15,
   "id": "4ec9e152-8433-4111-96a1-d2dc2c1dbbfe",
   "metadata": {},
   "outputs": [
    {
     "data": {
      "text/plain": [
       "'\\nThe LookupError class in Python is a base class for exceptions that occur when an indexing\\nor key-based lookup operation fails. It is a subclass of the Exception class. The purpose \\nof this class is to provide a common base for exceptions that involve looking up values\\nin data structures such as lists, dictionaries, tuples, etc. The two common exceptions\\nthat inherit from LookupError are KeyError and IndexError.\\n\\n'"
      ]
     },
     "execution_count": 15,
     "metadata": {},
     "output_type": "execute_result"
    }
   ],
   "source": [
    "'''\n",
    "The LookupError class in Python is a base class for exceptions that occur when an indexing\n",
    "or key-based lookup operation fails. It is a subclass of the Exception class. The purpose \n",
    "of this class is to provide a common base for exceptions that involve looking up values\n",
    "in data structures such as lists, dictionaries, tuples, etc. The two common exceptions\n",
    "that inherit from LookupError are KeyError and IndexError.\n",
    "\n",
    "'''"
   ]
  },
  {
   "cell_type": "code",
   "execution_count": 22,
   "id": "fbb20563-8d24-4ed4-ae8d-797001499459",
   "metadata": {},
   "outputs": [
    {
     "name": "stdout",
     "output_type": "stream",
     "text": [
      "'key2'\n"
     ]
    }
   ],
   "source": [
    "'''KeyError: This exception is raised when a dictionary key is not found.'''\n",
    "\n",
    "try:\n",
    "    d={'key':'amar',1:[1,3,4]}\n",
    "    print(d['key2'])\n",
    "except KeyError as e:\n",
    "    print(e)"
   ]
  },
  {
   "cell_type": "code",
   "execution_count": 23,
   "id": "a2ea3fa9-1109-470f-a5ab-6dcc5140c601",
   "metadata": {},
   "outputs": [
    {
     "name": "stdout",
     "output_type": "stream",
     "text": [
      "tuple index out of range\n"
     ]
    }
   ],
   "source": [
    "''' IndexError: This exception is raised when an index for a sequence (like a list or tuple) is out of range. '''\n",
    "try:\n",
    "    l=(1,2,3,4)\n",
    "    print(l[6])\n",
    "except IndexError as e:\n",
    "    print(e)"
   ]
  },
  {
   "cell_type": "markdown",
   "id": "00abb867-c96a-40f7-b7f2-a16537f4bc0e",
   "metadata": {},
   "source": [
    "#### Q5. Explain ImportError. What is ModuleNotFoundError?\n"
   ]
  },
  {
   "cell_type": "code",
   "execution_count": 26,
   "id": "b8b04c5e-dee5-4f24-9e19-8b7c6ce42aea",
   "metadata": {},
   "outputs": [],
   "source": [
    "'''\n",
    " 1)ImportError is an exception that occurs when there's an issue while attempting to import a module or a name from a module. It's a common exception that can happen for various reasons, such as when the module doesn't exist, there's an issue with the module's code, or there's a problem with the search path for modules.\n",
    " \n",
    " This exception is raised when an issue occurs during the import process, which can include errors like syntax errors in the module, issues with its dependencies, or other import-related problems.\n",
    " \n",
    " \n",
    "ImportError can have various subtypes that provide more specific information about the nature of the error. One of these subtypes is ModuleNotFoundError.\n",
    "\n",
    "2)ModuleNotFoundError is a more specific exception that is raised when a module cannot be found during the import process. It is a subclass of ImportError and was introduced in Python 3.6 to provide a clearer error message specifically when a module is not found.\n",
    "\n",
    "This exception is a subtype of ImportError that specifically indicates that the module being imported could not be found in the search path.\n",
    "\n",
    "It was introduced to provide a clearer and more informative error message when the issue is related to a missing module.\n",
    "'''"
   ]
  },
  {
   "cell_type": "code",
   "execution_count": 27,
   "id": "2c6d98df-0313-4ca1-a07d-3d3a9fa15bf2",
   "metadata": {},
   "outputs": [
    {
     "name": "stdout",
     "output_type": "stream",
     "text": [
      "No module named 'amarbhau'\n"
     ]
    }
   ],
   "source": [
    "try:\n",
    "    import amarbhau\n",
    "except ImportError as e:\n",
    "    print(e)"
   ]
  },
  {
   "cell_type": "code",
   "execution_count": 28,
   "id": "c9ee0550-52e9-4f0b-ba31-9d7d4a5b0ee5",
   "metadata": {},
   "outputs": [
    {
     "name": "stdout",
     "output_type": "stream",
     "text": [
      "Error: No module named 'non_existent_module'\n"
     ]
    }
   ],
   "source": [
    "try:\n",
    "    import non_existent_module\n",
    "except ModuleNotFoundError as e:\n",
    "    print(\"Error:\", e)\n"
   ]
  },
  {
   "cell_type": "markdown",
   "id": "19d718cd-d92c-4aca-8ebe-ab77659ad144",
   "metadata": {},
   "source": [
    "#### Q6. List down some best practices for exception handling in python."
   ]
  },
  {
   "cell_type": "code",
   "execution_count": 1,
   "id": "450ab9bc-7839-4510-ad10-05d4b523fbe8",
   "metadata": {},
   "outputs": [
    {
     "name": "stdout",
     "output_type": "stream",
     "text": [
      "division by zero\n",
      "invalid literal for int() with base 10: 'amar'\n",
      "this will catch on error\n",
      "No module named 'nayan'\n",
      "'key2'\n",
      "'str' object has no attribute 'kuchbhi_file'\n",
      "tuple index out of range\n",
      "unsupported operand type(s) for +: 'int' and 'str'\n",
      "[Errno 2] No such file or directory: 'amar-bahu_chi_file.text'\n"
     ]
    }
   ],
   "source": [
    "'''\n",
    "1)ZeroDivisionError\n",
    "2)ValueError\n",
    "3)TypeError\n",
    "4)ImportError\n",
    "5)KeyError\n",
    "6)AttributeError\n",
    "7)IndexError\n",
    "'''\n",
    "try:\n",
    "    a=10/0\n",
    "except ZeroDivisionError as e:\n",
    "    print(e)\n",
    "try:\n",
    "    int(\"amar\")\n",
    "except (ValueError,TypeError) as e :\n",
    "    print(e)\n",
    "try:\n",
    "    int(\"nayan\")\n",
    "except:\n",
    "    print('this will catch on error')\n",
    "try:\n",
    "    import nayan\n",
    "except ImportError as e:\n",
    "    print(e)\n",
    "try:\n",
    "    d={'key':'amar',1:[1,3,4]}\n",
    "    print(d['key2'])\n",
    "except KeyError as e:\n",
    "    print(e)\n",
    "try:\n",
    "    'baby'.kuchbhi_file()\n",
    "except AttributeError as e:\n",
    "    print(e)\n",
    "try:\n",
    "    l=(1,2,3,4)\n",
    "    print(l[6])\n",
    "except IndexError as e:\n",
    "    print(e)\n",
    "try:\n",
    "    123+'anam'\n",
    "except TypeError as e :\n",
    "    print(e)\n",
    "try:\n",
    "    with open('amar-bahu_chi_file.text','r') as f:\n",
    "        f.read()\n",
    "except FileNotFoundError as e :\n",
    "    print(e)\n"
   ]
  },
  {
   "cell_type": "code",
   "execution_count": null,
   "id": "5744e157-b758-4736-b2a3-2074a365ab4e",
   "metadata": {},
   "outputs": [],
   "source": []
  }
 ],
 "metadata": {
  "kernelspec": {
   "display_name": "Python 3 (ipykernel)",
   "language": "python",
   "name": "python3"
  },
  "language_info": {
   "codemirror_mode": {
    "name": "ipython",
    "version": 3
   },
   "file_extension": ".py",
   "mimetype": "text/x-python",
   "name": "python",
   "nbconvert_exporter": "python",
   "pygments_lexer": "ipython3",
   "version": "3.10.8"
  }
 },
 "nbformat": 4,
 "nbformat_minor": 5
}
